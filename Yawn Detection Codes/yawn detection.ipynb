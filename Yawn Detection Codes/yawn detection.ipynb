{
 "cells": [
  {
   "cell_type": "code",
   "execution_count": 1,
   "id": "24d5f3b5",
   "metadata": {},
   "outputs": [],
   "source": [
    "import numpy as np\n",
    "import argparse\n",
    "import dlib\n",
    "import cv2\n",
    "import os\n",
    "import matplotlib.pyplot as plt\n",
    "import tensorflow as tf\n",
    "from tensorflow.keras.preprocessing.image import ImageDataGenerator"
   ]
  },
  {
   "cell_type": "code",
   "execution_count": 2,
   "id": "7be88acf",
   "metadata": {},
   "outputs": [],
   "source": [
    "from imutils import face_utils\n",
    "import imutils"
   ]
  },
  {
   "cell_type": "code",
   "execution_count": 3,
   "id": "baf50d94",
   "metadata": {},
   "outputs": [],
   "source": [
    "detector = dlib.get_frontal_face_detector()\n",
    "predictor = dlib.shape_predictor(r\"C:\\Users\\JitChow\\Documents\\GitHub\\FYP2\\Shared\\shape_predictor_68_face_landmarks.dat\")"
   ]
  },
  {
   "cell_type": "code",
   "execution_count": 4,
   "id": "e38a1945",
   "metadata": {},
   "outputs": [],
   "source": [
    "def crop_mouth_yawn_dlib(img):\n",
    "    IMG_SIZE = 50\n",
    "    coor = (0, 0, 0, 0)\n",
    "    roi = img.copy()\n",
    "\n",
    "    try:\n",
    "        image_array = img.copy()\n",
    "        gray = cv2.cvtColor(image_array, cv2.COLOR_BGR2GRAY)\n",
    "        rects = detector(gray, 1)\n",
    "        if(len(rects) < 0):\n",
    "            return coor, 0\n",
    "        for (i, rect) in enumerate(rects):\n",
    "            shape = predictor(gray, rect)\n",
    "            shape = face_utils.shape_to_np(shape)\n",
    "\n",
    "            coor_i, coor_j = (48, 68)\n",
    "            coor = (x, y, w, h) = cv2.boundingRect(np.array([shape[coor_i:coor_j]]))\n",
    "            roi = gray[y:y + h, x:x + w]\n",
    "            roi = cv2.resize(roi, (IMG_SIZE, IMG_SIZE))\n",
    "\n",
    "    except Exception as e:\n",
    "            print(e)\n",
    "            \n",
    "    return coor, roi"
   ]
  },
  {
   "cell_type": "code",
   "execution_count": 5,
   "id": "fe40c565",
   "metadata": {},
   "outputs": [],
   "source": [
    "\n",
    "model = tf.keras.models.load_model(r\"C:\\Users\\JitChow\\Documents\\GitHub\\FYP2\\Yawn Detection Codes\\models\\YawnGray Acc - 0.957 Loss - 0.117.h5\")  "
   ]
  },
  {
   "cell_type": "code",
   "execution_count": 6,
   "id": "61f1cc48",
   "metadata": {},
   "outputs": [],
   "source": [
    "import cv2\n",
    "\n",
    "# define a video capture object\n",
    "vid = cv2.VideoCapture(0)\n",
    "\n",
    "while(True):\n",
    "    ret, frame = vid.read()\n",
    "    coor, roi = crop_mouth_yawn_dlib(frame)\n",
    "    \n",
    "    if coor == (0,0,0,0):\n",
    "        cv2.imshow('frame', frame)\n",
    "    else:\n",
    "        \n",
    "        \n",
    "        (x, y, w, h) = (coor[0], coor[1],coor[2],coor[3])\n",
    "        frame = cv2.rectangle(frame, (x, y), (x + w, y + h), (36,255,12), 1)\n",
    "\n",
    "        roi = np.array(roi).reshape(-1,50,50,1)\n",
    "        roi = roi.astype('float32') / 255.0\n",
    "        pred = model.predict(roi)\n",
    "\n",
    "        text = ''\n",
    "        if pred < 0.5:\n",
    "            text = 'no yawn'\n",
    "        else:\n",
    "            text = 'yawn'\n",
    "\n",
    "        cv2.putText(frame, text, (x-10, y), cv2.FONT_HERSHEY_SIMPLEX, 0.9, (36,255,12), 2)\n",
    "        cv2.imshow('frame', frame)\n",
    "      \n",
    "    if cv2.waitKey(1) & 0xFF == ord('q'):\n",
    "        break\n",
    "\n",
    "\n",
    "vid.release()\n",
    "# Destroy all the windows\n",
    "cv2.destroyAllWindows()"
   ]
  },
  {
   "cell_type": "code",
   "execution_count": null,
   "id": "bc57a7e6",
   "metadata": {},
   "outputs": [],
   "source": []
  }
 ],
 "metadata": {
  "kernelspec": {
   "display_name": "Python 3 (ipykernel)",
   "language": "python",
   "name": "python3"
  },
  "language_info": {
   "codemirror_mode": {
    "name": "ipython",
    "version": 3
   },
   "file_extension": ".py",
   "mimetype": "text/x-python",
   "name": "python",
   "nbconvert_exporter": "python",
   "pygments_lexer": "ipython3",
   "version": "3.9.7"
  }
 },
 "nbformat": 4,
 "nbformat_minor": 5
}
