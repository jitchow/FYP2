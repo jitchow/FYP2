{
 "cells": [
  {
   "cell_type": "code",
   "execution_count": 1,
   "id": "4392defb",
   "metadata": {},
   "outputs": [],
   "source": [
    "import numpy as np\n",
    "import argparse\n",
    "import dlib\n",
    "import cv2\n",
    "import os\n",
    "import matplotlib.pyplot as plt\n",
    "import tensorflow as tf\n",
    "from tensorflow.keras.preprocessing.image import ImageDataGenerator"
   ]
  },
  {
   "cell_type": "code",
   "execution_count": 2,
   "id": "fbb3a249",
   "metadata": {},
   "outputs": [],
   "source": [
    "from imutils import face_utils\n",
    "import imutils"
   ]
  },
  {
   "cell_type": "code",
   "execution_count": 3,
   "id": "2e8b11f5",
   "metadata": {},
   "outputs": [],
   "source": [
    "detector = dlib.get_frontal_face_detector()\n",
    "predictor = dlib.shape_predictor(r\"C:\\Users\\JitChow\\Documents\\GitHub\\FYP2\\Shared\\shape_predictor_68_face_landmarks.dat\")"
   ]
  },
  {
   "cell_type": "code",
   "execution_count": 4,
   "id": "38e3e68b",
   "metadata": {},
   "outputs": [],
   "source": [
    "def crop_eye_dlib(img):\n",
    "    IMG_SIZE = 50\n",
    "    faces = 0\n",
    "    roi = img.copy()\n",
    "\n",
    "    try:\n",
    "        image_array = img.copy()\n",
    "        gray = cv2.cvtColor(image_array, cv2.COLOR_BGR2GRAY)\n",
    "        rects = detector(gray, 1)\n",
    "        if(len(rects) < 0):\n",
    "            return faces, 0\n",
    "        for (i, rect) in enumerate(rects):\n",
    "            faces = len(rects)\n",
    "            shape = predictor(gray, rect)\n",
    "            shape = face_utils.shape_to_np(shape)\n",
    "\n",
    "            coor_i, coor_j = (43, 48)\n",
    "            (x, y, w, h) = cv2.boundingRect(np.array([shape[coor_i:coor_j]]))\n",
    "            roi = gray[y-(3*h):y+(2*h), x-w:x +(2*w)]\n",
    "            roi = cv2.resize(roi, (IMG_SIZE, IMG_SIZE))\n",
    "\n",
    "    except Exception as e:\n",
    "            print(e)\n",
    "            \n",
    "    return faces, roi"
   ]
  },
  {
   "cell_type": "code",
   "execution_count": 5,
   "id": "8b97a4ee",
   "metadata": {},
   "outputs": [],
   "source": [
    "def crop_mouth_yawn_dlib(img):\n",
    "    IMG_SIZE = 50\n",
    "    faces = 0\n",
    "    roi = img.copy()\n",
    "\n",
    "    try:\n",
    "        image_array = img.copy()\n",
    "        gray = cv2.cvtColor(image_array, cv2.COLOR_BGR2GRAY)\n",
    "        rects = detector(gray, 1)\n",
    "        if(len(rects) < 0):\n",
    "            return faces, 0\n",
    "        for (i, rect) in enumerate(rects):\n",
    "            faces = len(rects)\n",
    "            shape = predictor(gray, rect)\n",
    "            shape = face_utils.shape_to_np(shape)\n",
    "\n",
    "            coor_i, coor_j = (48, 68)\n",
    "            (x, y, w, h) = cv2.boundingRect(np.array([shape[coor_i:coor_j]]))\n",
    "            roi = gray[y:y + h, x:x + w]\n",
    "            roi = cv2.resize(roi, (IMG_SIZE, IMG_SIZE))\n",
    "\n",
    "    except Exception as e:\n",
    "            print(e)\n",
    "            \n",
    "    return faces, roi"
   ]
  },
  {
   "cell_type": "code",
   "execution_count": 6,
   "id": "d21f7d80",
   "metadata": {},
   "outputs": [],
   "source": [
    "model_eye = tf.keras.models.load_model(r'C:\\Users\\JitChow\\Documents\\GitHub\\FYP2\\Eye Detection Codes\\models\\EyeGray Acc - 0.914 Loss - 0.266.h5')\n",
    "model_yawn = tf.keras.models.load_model(r\"C:\\Users\\JitChow\\Documents\\GitHub\\FYP2\\Yawn Detection Codes\\models\\YawnGray Acc - 0.957 Loss - 0.117.h5\")  "
   ]
  },
  {
   "cell_type": "code",
   "execution_count": 7,
   "id": "11d8468c",
   "metadata": {},
   "outputs": [],
   "source": [
    "def predictEyes(roi):\n",
    "    roi = np.array(roi).reshape(-1,50,50,1)\n",
    "    roi = roi.astype('float32') / 255.0\n",
    "    pred = model_eye.predict(roi)\n",
    "    if pred < 0.5:\n",
    "        return 0\n",
    "    return 1"
   ]
  },
  {
   "cell_type": "code",
   "execution_count": 8,
   "id": "de112f3a",
   "metadata": {},
   "outputs": [],
   "source": [
    "def predictYawn(roi):\n",
    "    roi = np.array(roi).reshape(-1,50,50,1)\n",
    "    roi = roi.astype('float32') / 255.0\n",
    "    pred = model_yawn.predict(roi)\n",
    "    if pred < 0.5:\n",
    "        return 0\n",
    "    return 1"
   ]
  },
  {
   "cell_type": "code",
   "execution_count": 11,
   "id": "c323d24b",
   "metadata": {},
   "outputs": [
    {
     "ename": "ValueError",
     "evalue": "cannot reshape array of size 921600 into shape (50,50,1)",
     "output_type": "error",
     "traceback": [
      "\u001b[1;31m---------------------------------------------------------------------------\u001b[0m",
      "\u001b[1;31mValueError\u001b[0m                                Traceback (most recent call last)",
      "Input \u001b[1;32mIn [11]\u001b[0m, in \u001b[0;36m<module>\u001b[1;34m\u001b[0m\n\u001b[0;32m     21\u001b[0m     text_yawn \u001b[38;5;241m=\u001b[39m \u001b[38;5;124m'\u001b[39m\u001b[38;5;124mN/A\u001b[39m\u001b[38;5;124m'\u001b[39m\n\u001b[0;32m     22\u001b[0m \u001b[38;5;28;01melse\u001b[39;00m:\n\u001b[1;32m---> 23\u001b[0m     pred_eye \u001b[38;5;241m=\u001b[39m  \u001b[43mpredictEyes\u001b[49m\u001b[43m(\u001b[49m\u001b[43mroi_eye\u001b[49m\u001b[43m)\u001b[49m\n\u001b[0;32m     24\u001b[0m     pred_yawn \u001b[38;5;241m=\u001b[39m  predictYawn(roi_yawn)\n\u001b[0;32m     26\u001b[0m     \u001b[38;5;28;01mif\u001b[39;00m pred_eye \u001b[38;5;241m==\u001b[39m \u001b[38;5;241m0\u001b[39m:\n",
      "Input \u001b[1;32mIn [7]\u001b[0m, in \u001b[0;36mpredictEyes\u001b[1;34m(roi)\u001b[0m\n\u001b[0;32m      1\u001b[0m \u001b[38;5;28;01mdef\u001b[39;00m \u001b[38;5;21mpredictEyes\u001b[39m(roi):\n\u001b[1;32m----> 2\u001b[0m     roi \u001b[38;5;241m=\u001b[39m \u001b[43mnp\u001b[49m\u001b[38;5;241;43m.\u001b[39;49m\u001b[43marray\u001b[49m\u001b[43m(\u001b[49m\u001b[43mroi\u001b[49m\u001b[43m)\u001b[49m\u001b[38;5;241;43m.\u001b[39;49m\u001b[43mreshape\u001b[49m\u001b[43m(\u001b[49m\u001b[38;5;241;43m-\u001b[39;49m\u001b[38;5;241;43m1\u001b[39;49m\u001b[43m,\u001b[49m\u001b[38;5;241;43m50\u001b[39;49m\u001b[43m,\u001b[49m\u001b[38;5;241;43m50\u001b[39;49m\u001b[43m,\u001b[49m\u001b[38;5;241;43m1\u001b[39;49m\u001b[43m)\u001b[49m\n\u001b[0;32m      3\u001b[0m     roi \u001b[38;5;241m=\u001b[39m roi\u001b[38;5;241m.\u001b[39mastype(\u001b[38;5;124m'\u001b[39m\u001b[38;5;124mfloat32\u001b[39m\u001b[38;5;124m'\u001b[39m) \u001b[38;5;241m/\u001b[39m \u001b[38;5;241m255.0\u001b[39m\n\u001b[0;32m      4\u001b[0m     pred \u001b[38;5;241m=\u001b[39m model_eye\u001b[38;5;241m.\u001b[39mpredict(roi)\n",
      "\u001b[1;31mValueError\u001b[0m: cannot reshape array of size 921600 into shape (50,50,1)"
     ]
    }
   ],
   "source": [
    "import cv2\n",
    "import time\n",
    "\n",
    "# define a video capture object\n",
    "vid = cv2.VideoCapture(0)\n",
    "\n",
    "counter = 0\n",
    "while(True):\n",
    "    \n",
    "    ret, frame = vid.read()\n",
    "    \n",
    "    if counter == 30:\n",
    "        counter = 0\n",
    "        \n",
    "        faces_eye, roi_eye = crop_eye_dlib(frame)\n",
    "        faces_yawn, roi_yawn = crop_mouth_yawn_dlib(frame)\n",
    "\n",
    "        #check if dlib detects any faces\n",
    "        if (faces_eye < 0 or faces_yawn < 0):\n",
    "            text_eye = 'N/A'\n",
    "            text_yawn = 'N/A'\n",
    "        else:\n",
    "            pred_eye =  predictEyes(roi_eye)\n",
    "            pred_yawn =  predictYawn(roi_yawn)\n",
    "\n",
    "            if pred_eye == 0:\n",
    "                text_eye = 'closed'\n",
    "            else:\n",
    "                text_eye = 'open'\n",
    "\n",
    "            if pred_yawn == 0:\n",
    "                text_yawn = 'no yawn'\n",
    "            else:\n",
    "                text_yawn = 'yawn'\n",
    "    else:        \n",
    "        counter += 1\n",
    "\n",
    "    cv2.putText(frame, 'eye status = '+text_eye, (0, 20), cv2.FONT_HERSHEY_SIMPLEX, 0.9, (36,255,12), 2)\n",
    "    cv2.putText(frame, 'yawn status = '+text_yawn, (0, 50), cv2.FONT_HERSHEY_SIMPLEX, 0.9, (36,255,12), 2)\n",
    "    cv2.imshow('frame', frame)\n",
    "      \n",
    "    if cv2.waitKey(1) & 0xFF == ord('q'):\n",
    "        break\n",
    "\n",
    "\n",
    "vid.release()\n",
    "# Destroy all the windows\n",
    "cv2.destroyAllWindows()"
   ]
  },
  {
   "cell_type": "code",
   "execution_count": 1,
   "id": "8e24e3bc",
   "metadata": {},
   "outputs": [
    {
     "ename": "NameError",
     "evalue": "name 'cv2' is not defined",
     "output_type": "error",
     "traceback": [
      "\u001b[1;31m---------------------------------------------------------------------------\u001b[0m",
      "\u001b[1;31mNameError\u001b[0m                                 Traceback (most recent call last)",
      "Input \u001b[1;32mIn [1]\u001b[0m, in \u001b[0;36m<module>\u001b[1;34m\u001b[0m\n\u001b[1;32m----> 1\u001b[0m vid \u001b[38;5;241m=\u001b[39m \u001b[43mcv2\u001b[49m\u001b[38;5;241m.\u001b[39mVideoCapture(\u001b[38;5;241m0\u001b[39m)\n\u001b[0;32m      3\u001b[0m frameRate \u001b[38;5;241m=\u001b[39m vid\u001b[38;5;241m.\u001b[39mget(\u001b[38;5;241m5\u001b[39m)\n\u001b[0;32m      4\u001b[0m \u001b[38;5;28;01mwhile\u001b[39;00m(\u001b[38;5;28;01mTrue\u001b[39;00m):\n",
      "\u001b[1;31mNameError\u001b[0m: name 'cv2' is not defined"
     ]
    }
   ],
   "source": [
    "vid = cv2.VideoCapture(0)\n",
    "\n",
    "frameRate = vid.get(5)\n",
    "while(True):\n",
    "    print(vid.get(1))\n",
    "    ret, frame = vid.read()\n",
    "    cv2.imshow('frame',frame)\n",
    "        \n",
    "    if cv2.waitKey(1) & 0xFF == ord('q'):\n",
    "        break\n",
    "\n",
    "vid.release()\n",
    "# Destroy all the windows\n",
    "cv2.destroyAllWindows()"
   ]
  },
  {
   "cell_type": "code",
   "execution_count": null,
   "id": "378d29e9",
   "metadata": {},
   "outputs": [],
   "source": []
  }
 ],
 "metadata": {
  "kernelspec": {
   "display_name": "Python 3 (ipykernel)",
   "language": "python",
   "name": "python3"
  },
  "language_info": {
   "codemirror_mode": {
    "name": "ipython",
    "version": 3
   },
   "file_extension": ".py",
   "mimetype": "text/x-python",
   "name": "python",
   "nbconvert_exporter": "python",
   "pygments_lexer": "ipython3",
   "version": "3.9.7"
  }
 },
 "nbformat": 4,
 "nbformat_minor": 5
}
