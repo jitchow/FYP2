{
 "cells": [
  {
   "cell_type": "code",
   "execution_count": 1,
   "id": "28021c58",
   "metadata": {},
   "outputs": [],
   "source": [
    "import numpy as np\n",
    "import argparse\n",
    "import dlib\n",
    "import cv2\n",
    "import os\n",
    "import matplotlib.pyplot as plt\n",
    "import tensorflow as tf\n",
    "from tensorflow.keras.preprocessing.image import ImageDataGenerator"
   ]
  },
  {
   "cell_type": "code",
   "execution_count": 2,
   "id": "bc2edbbb",
   "metadata": {},
   "outputs": [],
   "source": [
    "from imutils import face_utils\n",
    "import imutils"
   ]
  },
  {
   "cell_type": "code",
   "execution_count": 3,
   "id": "18596cec",
   "metadata": {},
   "outputs": [],
   "source": [
    "detector = dlib.get_frontal_face_detector()\n",
    "predictor = dlib.shape_predictor(r\"C:\\Users\\JitChow\\Documents\\GitHub\\FYP2\\Shared\\shape_predictor_68_face_landmarks.dat\")"
   ]
  },
  {
   "cell_type": "code",
   "execution_count": 4,
   "id": "17c5c326",
   "metadata": {},
   "outputs": [],
   "source": [
    "def crop_eye_dlib(img):\n",
    "    IMG_SIZE = 50\n",
    "    faces = 0\n",
    "    roi = img.copy()\n",
    "\n",
    "    try:\n",
    "        image_array = img.copy()\n",
    "        gray = cv2.cvtColor(image_array, cv2.COLOR_BGR2GRAY)\n",
    "        rects = detector(gray, 1)\n",
    "        if(len(rects) < 0):\n",
    "            return faces, 0\n",
    "        for (i, rect) in enumerate(rects):\n",
    "            faces = len(rects)\n",
    "            shape = predictor(gray, rect)\n",
    "            shape = face_utils.shape_to_np(shape)\n",
    "\n",
    "            coor_i, coor_j = (43, 48)\n",
    "            (x, y, w, h) = cv2.boundingRect(np.array([shape[coor_i:coor_j]]))\n",
    "            roi = gray[y-(3*h):y+(2*h), x-w:x +(2*w)]\n",
    "            roi = cv2.resize(roi, (IMG_SIZE, IMG_SIZE))\n",
    "\n",
    "    except Exception as e:\n",
    "            print(e)\n",
    "            \n",
    "    return faces, roi"
   ]
  },
  {
   "cell_type": "code",
   "execution_count": 5,
   "id": "24535d12",
   "metadata": {},
   "outputs": [],
   "source": [
    "def crop_mouth_yawn_dlib(img):\n",
    "    IMG_SIZE = 50\n",
    "    faces = 0\n",
    "    roi = img.copy()\n",
    "\n",
    "    try:\n",
    "        image_array = img.copy()\n",
    "        gray = cv2.cvtColor(image_array, cv2.COLOR_BGR2GRAY)\n",
    "        rects = detector(gray, 1)\n",
    "        if(len(rects) < 0):\n",
    "            return faces, 0\n",
    "        for (i, rect) in enumerate(rects):\n",
    "            faces = len(rects)\n",
    "            shape = predictor(gray, rect)\n",
    "            shape = face_utils.shape_to_np(shape)\n",
    "\n",
    "            coor_i, coor_j = (48, 68)\n",
    "            (x, y, w, h) = cv2.boundingRect(np.array([shape[coor_i:coor_j]]))\n",
    "            roi = gray[y:y + h, x:x + w]\n",
    "            roi = cv2.resize(roi, (IMG_SIZE, IMG_SIZE))\n",
    "\n",
    "    except Exception as e:\n",
    "            print(e)\n",
    "            \n",
    "    return faces, roi"
   ]
  },
  {
   "cell_type": "code",
   "execution_count": 6,
   "id": "76af8b55",
   "metadata": {},
   "outputs": [],
   "source": [
    "model_eye = tf.keras.models.load_model(r'C:\\Users\\JitChow\\Documents\\GitHub\\FYP2\\Eye Detection Codes\\models\\EyeGray Acc - 0.914 Loss - 0.266.h5')\n",
    "model_yawn = tf.keras.models.load_model(r\"C:\\Users\\JitChow\\Documents\\GitHub\\FYP2\\Yawn Detection Codes\\models\\YawnGray Acc - 0.957 Loss - 0.117.h5\")  "
   ]
  },
  {
   "cell_type": "code",
   "execution_count": 7,
   "id": "7f4d0b49",
   "metadata": {},
   "outputs": [],
   "source": [
    "def predictEyes(roi):\n",
    "    roi = np.array(roi).reshape(-1,50,50,1)\n",
    "    roi = roi.astype('float32') / 255.0\n",
    "    pred = model_eye.predict(roi)\n",
    "    if pred < 0.5:\n",
    "        return 0\n",
    "    return 1"
   ]
  },
  {
   "cell_type": "code",
   "execution_count": 8,
   "id": "6f89e8d4",
   "metadata": {},
   "outputs": [],
   "source": [
    "def predictYawn(roi):\n",
    "    roi = np.array(roi).reshape(-1,50,50,1)\n",
    "    roi = roi.astype('float32') / 255.0\n",
    "    pred = model_yawn.predict(roi)\n",
    "    if pred < 0.5:\n",
    "        return 0\n",
    "    return 1"
   ]
  },
  {
   "cell_type": "code",
   "execution_count": null,
   "id": "0955cb2c",
   "metadata": {},
   "outputs": [],
   "source": [
    "import cv2\n",
    "\n",
    "# define a video capture object\n",
    "vid = cv2.VideoCapture(0)\n",
    "\n",
    "while(True):\n",
    "    ret, frame = vid.read()\n",
    "    coor_eye, roi_eye = crop_eye_dlib(frame)\n",
    "    coor_yawn, roi_yawn = crop_mouth_yawn_dlib(frame)\n",
    "    \n",
    "    #check if dlib detects any faces\n",
    "    if coor == (0,0,0,0):\n",
    "        cv2.imshow('frame', frame)\n",
    "    else:\n",
    "        \n",
    "        \n",
    "        (x, y, w, h) = (coor[0], coor[1],coor[2],coor[3])\n",
    "        frame = cv2.rectangle(frame, (x, y), (x + w, y + h), (36,255,12), 1)\n",
    "\n",
    "        roi = np.array(roi).reshape(-1,50,50,1)\n",
    "        roi = roi.astype('float32') / 255.0\n",
    "        pred = model.predict(roi)\n",
    "\n",
    "        text = ''\n",
    "        if pred < 0.5:\n",
    "            text = 'closed'\n",
    "        else:\n",
    "            text = 'open'\n",
    "\n",
    "        cv2.putText(frame, text, (x-10, y), cv2.FONT_HERSHEY_SIMPLEX, 0.9, (36,255,12), 2)\n",
    "        cv2.imshow('frame', frame)\n",
    "      \n",
    "    if cv2.waitKey(1) & 0xFF == ord('q'):\n",
    "        break\n",
    "\n",
    "\n",
    "vid.release()\n",
    "# Destroy all the windows\n",
    "cv2.destroyAllWindows()"
   ]
  }
 ],
 "metadata": {
  "kernelspec": {
   "display_name": "Python 3 (ipykernel)",
   "language": "python",
   "name": "python3"
  },
  "language_info": {
   "codemirror_mode": {
    "name": "ipython",
    "version": 3
   },
   "file_extension": ".py",
   "mimetype": "text/x-python",
   "name": "python",
   "nbconvert_exporter": "python",
   "pygments_lexer": "ipython3",
   "version": "3.9.7"
  }
 },
 "nbformat": 4,
 "nbformat_minor": 5
}
